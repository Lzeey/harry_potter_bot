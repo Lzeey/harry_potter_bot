{
 "cells": [
  {
   "cell_type": "code",
   "execution_count": 51,
   "metadata": {
    "collapsed": false
   },
   "outputs": [],
   "source": [
    "import numpy as np\n",
    "import sys\n",
    "import os\n",
    "import codecs\n",
    "\n",
    "import keras\n",
    "from keras.models import Sequential, Model, load_model\n",
    "from keras.layers import Dense, LSTM, Dropout, Input, Embedding\n",
    "from keras.optimizers import RMSprop, Adam\n",
    "\n",
    "from keras.callbacks import ModelCheckpoint, LambdaCallback\n",
    "from keras.utils import np_utils\n",
    "\n",
    "import tensorflow as tf"
   ]
  },
  {
   "cell_type": "code",
   "execution_count": 16,
   "metadata": {
    "collapsed": false
   },
   "outputs": [],
   "source": [
    "# load ascii text and covert to lowercase\n",
    "filenames = [f for f in os.listdir('data') if f.startswith(\"Harry\")]\n",
    "raw_text = \"\\n\".join(codecs.open(os.path.join('data', f), 'rb', 'cp1252', errors='ignore').read() for f in filenames)\n",
    "#raw_text = \"\\n\".join(open('data//' + f).read() for f in filenames)\n",
    "raw_text = raw_text.lower()"
   ]
  },
  {
   "cell_type": "code",
   "execution_count": 18,
   "metadata": {
    "collapsed": false
   },
   "outputs": [
    {
     "name": "stdout",
     "output_type": "stream",
     "text": [
      "6321551\n"
     ]
    },
    {
     "data": {
      "text/plain": [
       "'with... you know... her crowd.\" \\r\\n\\r\\nmrs. dursley sipped her tea through pursed lips. mr. dursley wondered whether he dared tell her he\\'d heard the name \"potter.\" he decided he didn\\'t dare. instead he said, as casually as he could, \"their son -- he\\'d be about dudley\\'s age now, wouldn\\'t he?\" \\r\\n\\r\\n\"i suppose so,\" said mrs. dursley stiffly. \\r\\n\\r\\n\"what\\'s his name again? howard, isn\\'t it?\" \\r\\n\\r\\n\"harry. nasty, common name, if you ask me.\" \\r\\n\\r\\n\"oh, yes,\" said mr. dursley, his heart sinking horribly. \"yes, i quite agree.\" \\r\\n\\r\\nhe didn\\'t say another word on the subject as they went upstairs to bed. \\r\\n\\r\\nwhile mrs. dursley was in the bathroom, mr. dursley crept to the bedroom window and peered down into the front garden. the cat was still there. \\r\\n\\r\\nit was staring down privet drive as though it were waiting for something. \\r\\n\\r\\nwas he imagining things? could all this have anything to do with the potters? if it did... if it got out that they were related to a pair of -- well, he didn\\'t think he could bear it. \\r\\n\\r\\nthe dursleys got into bed. mrs. dursley fell asleep quickly but mr. dursley lay awake, turning it all over in his mind. his last, comforting thought before he fell asleep was that even if the potters were involved, there was no reason for them to come near him and mrs. dursley. the potters knew very well what he and petunia thought about them and their kind.... he couldn\\'t see how he and petunia could get mixed up in anything that might be going on -- he yawned and turned over -- it couldn\\'t affect them.... \\r\\n\\r\\nhow very wrong he was. \\r\\n\\r\\nmr. dursley might have been drifting into an uneasy sleep, but the cat on the wall outside was showing no sign of sleepiness. it was sitting as still as a statue, its eyes fixed unblinkingly on the far corner of privet drive. it didn\\'t so much as quiver when a car door slammed on the next street, nor when two owls swooped overhead. in fact, it was nearly midnight before the cat moved at all. \\r\\n\\r\\na man appeared on the corner the cat had been watching, appeared so suddenly and silently you\\'d have thought he\\'d just popped out of the ground. the cat\\'s tail twitched and its eyes narrowed. \\r\\n\\r\\nnothing like this man had ever been seen on privet drive. he was tall, thin, and very old, judging by the silver of his hair and beard, which were both long enough to tuck into his belt. he was wearing long robes, a purple cloak that swept the ground, and high-heeled, buckled boots. \\r\\n\\r\\nhis blue eyes were light, bright, and sparkling behind half-moon spectacles and his nose was very long and crooked, as though it had been broken at least twice. this man\\'s name was albus dumbledore. \\r\\n\\r\\nalbus dumbledore didn\\'t seem to realize that he had just arrived in a street where everything from his name to his boots was unwelcome. he was busy rummaging in his cloak, looking for something. but he did seem to realize he was being watched, because he looked up suddenly at the cat, which was still staring at him from the other end of the street. for some reason, the sight of the cat seemed to amuse him. he chuckled and muttered, \"i should have known.\" \\r\\n\\r\\nhe found what he was looking for in his inside pocket. it seemed to be a silver cigarette lighter. he flicked it open, held it up in the air, and clicked it. the nearest street lamp went out with a little pop. he clicked it again -- the next lamp flickered into darkness. twelve times he clicked the put-outer, until the only lights left on the whole street were two tiny pinpricks in the distance, which were the eyes of the cat watching him. if anyone looked out of their window now, even beady-eyed mrs. dursley, they wouldn\\'t be able to see anything that was happening down on the pavement. dumbledore slipped the put-outer back inside his cloak and set off down the street toward number four, where he sat down on the wall next to the cat. he didn\\'t look at it, but after a moment he spoke to it. \\r\\n\\r\\n\"fancy seeing you here, professor mcgonagall.\" \\r\\n\\r\\nhe turned to smile at the tabby, but it '"
      ]
     },
     "execution_count": 18,
     "metadata": {},
     "output_type": "execute_result"
    }
   ],
   "source": [
    "print(len(raw_text))\n",
    "raw_text[10000:14000]"
   ]
  },
  {
   "cell_type": "code",
   "execution_count": 19,
   "metadata": {
    "collapsed": false
   },
   "outputs": [
    {
     "name": "stdout",
     "output_type": "stream",
     "text": [
      "Total Characters:  6321551\n",
      "Total Unique chars:  78\n"
     ]
    }
   ],
   "source": [
    "# create mapping of unique chars to integers\n",
    "chars = sorted(list(set(raw_text)))\n",
    "char_to_int = dict((c, i) for i, c in enumerate(chars))\n",
    "int_to_char = dict((i, c) for i, c in enumerate(chars))\n",
    "\n",
    "# summarize the loaded data\n",
    "n_chars = len(raw_text)\n",
    "n_vocab = len(chars)\n",
    "print(\"Total Characters: \", n_chars)\n",
    "print(\"Total Unique chars: \", n_vocab)"
   ]
  },
  {
   "cell_type": "code",
   "execution_count": 20,
   "metadata": {
    "collapsed": false
   },
   "outputs": [
    {
     "name": "stdout",
     "output_type": "stream",
     "text": [
      "['\\n', '\\r', '\\x1f', ' ', '!', '\"', '$', '%', '&', \"'\", '(', ')', '*', ',', '-', '.', '/', '0', '1', '2', '3', '4', '5', '6', '7', '8', '9', ':', ';', '=', '>', '?', '[', '\\\\', ']', '^', '_', '`', 'a', 'b', 'c', 'd', 'e', 'f', 'g', 'h', 'i', 'j', 'k', 'l', 'm', 'n', 'o', 'p', 'q', 'r', 's', 't', 'u', 'v', 'w', 'x', 'y', 'z', '{', '}', '~', '¦', '«', '\\xad', '»', 'é', 'ü', '–', '‘', '’', '“', '•']\n"
     ]
    }
   ],
   "source": [
    "print(chars)"
   ]
  },
  {
   "cell_type": "code",
   "execution_count": 21,
   "metadata": {
    "collapsed": false
   },
   "outputs": [
    {
     "name": "stdout",
     "output_type": "stream",
     "text": [
      "Total sequences:  6321487\n"
     ]
    }
   ],
   "source": [
    "# create input and output pairs\n",
    "seq_length = 64\n",
    "dataX = []\n",
    "dataY = []\n",
    "for i in range(0, n_chars - seq_length, 1):\n",
    "    seq_in = raw_text[i:i + seq_length]\n",
    "    seq_out = raw_text[i + seq_length]\n",
    "    dataX.append([char_to_int[char] for char in seq_in])\n",
    "    dataY.append(char_to_int[seq_out])\n",
    "n_patterns = len(dataX)\n",
    "print(\"Total sequences: \", n_patterns)"
   ]
  },
  {
   "cell_type": "code",
   "execution_count": 29,
   "metadata": {
    "collapsed": false
   },
   "outputs": [
    {
     "name": "stdout",
     "output_type": "stream",
     "text": [
      "(6321487, 64)\n"
     ]
    },
    {
     "data": {
      "text/plain": [
       "array([[45, 38, 55, 55, 62,  3, 53, 52, 57, 57, 42, 55,  3, 38, 51, 41,  3,\n",
       "        57, 45, 42,  3, 56, 52, 55, 40, 42, 55, 42, 55,  9, 56,  3, 56, 57,\n",
       "        52, 51, 42,  3,  1,  0,  1,  0, 40, 45, 38, 53, 57, 42, 55,  3, 52,\n",
       "        51, 42,  3,  1,  0,  1,  0, 57, 45, 42,  3, 39, 52],\n",
       "       [38, 55, 55, 62,  3, 53, 52, 57, 57, 42, 55,  3, 38, 51, 41,  3, 57,\n",
       "        45, 42,  3, 56, 52, 55, 40, 42, 55, 42, 55,  9, 56,  3, 56, 57, 52,\n",
       "        51, 42,  3,  1,  0,  1,  0, 40, 45, 38, 53, 57, 42, 55,  3, 52, 51,\n",
       "        42,  3,  1,  0,  1,  0, 57, 45, 42,  3, 39, 52, 62]])"
      ]
     },
     "execution_count": 29,
     "metadata": {},
     "output_type": "execute_result"
    }
   ],
   "source": [
    "# reshape X to be [samples, time steps, features]\n",
    "X = np.reshape(dataX, (n_patterns, seq_length))\n",
    "print(X.shape)\n",
    "X[:2, :]\n",
    "# normalize\n",
    "#X = X / float(n_vocab)"
   ]
  },
  {
   "cell_type": "code",
   "execution_count": null,
   "metadata": {
    "collapsed": true
   },
   "outputs": [],
   "source": []
  },
  {
   "cell_type": "code",
   "execution_count": 26,
   "metadata": {
    "collapsed": false
   },
   "outputs": [
    {
     "name": "stdout",
     "output_type": "stream",
     "text": [
      "(6321487,)\n"
     ]
    },
    {
     "data": {
      "text/plain": [
       "array([62,  3, 60, 45, 52])"
      ]
     },
     "execution_count": 26,
     "metadata": {},
     "output_type": "execute_result"
    }
   ],
   "source": [
    "# one hot encode the output variable\n",
    "#y = np_utils.to_categorical(dataY)\n",
    "y = np.array(dataY)\n",
    "print(y.shape)\n",
    "y[:5]\n",
    "#WE USE SPARSE CATEGORICAL"
   ]
  },
  {
   "cell_type": "code",
   "execution_count": 34,
   "metadata": {
    "collapsed": false
   },
   "outputs": [
    {
     "name": "stdout",
     "output_type": "stream",
     "text": [
      "_________________________________________________________________\n",
      "Layer (type)                 Output Shape              Param #   \n",
      "=================================================================\n",
      "input_4 (InputLayer)         (None, 64)                0         \n",
      "_________________________________________________________________\n",
      "embedding_3 (Embedding)      (None, 64, 64)            4992      \n",
      "_________________________________________________________________\n",
      "lstm_5 (LSTM)                (None, 64)                33024     \n",
      "_________________________________________________________________\n",
      "dropout_5 (Dropout)          (None, 64)                0         \n",
      "_________________________________________________________________\n",
      "dense_3 (Dense)              (None, 78)                5070      \n",
      "=================================================================\n",
      "Total params: 43,086\n",
      "Trainable params: 43,086\n",
      "Non-trainable params: 0\n",
      "_________________________________________________________________\n"
     ]
    }
   ],
   "source": [
    "# define the input shape\n",
    "hidden_size=64\n",
    "\n",
    "inputs = Input(shape=(X.shape[1],))\n",
    "embeded = Embedding(len(chars), hidden_size, input_length=seq_length)(inputs)\n",
    "# x = LSTM(hidden_size, return_sequences = True)(embeded) \n",
    "# x = Dropout(0.2)(x)\n",
    "x = LSTM(hidden_size)(embeded)\n",
    "x = Dropout(0.3)(x)\n",
    "output = Dense(len(chars), activation ='softmax')(x)\n",
    "\n",
    "model = Model(inputs, output)\n",
    "model.compile(loss='sparse_categorical_crossentropy',\n",
    "             optimizer='adam')\n",
    "\n",
    "model.summary()"
   ]
  },
  {
   "cell_type": "code",
   "execution_count": 59,
   "metadata": {
    "collapsed": true
   },
   "outputs": [],
   "source": [
    "def generate_stuff():\n",
    "    # pick a random seed\n",
    "    start = np.random.randint(0, len(dataX)-1)\n",
    "    pattern = dataX[start]\n",
    "    seed = dataX[start]\n",
    "    print(pattern)\n",
    "    print(\"Seed pattern:\")\n",
    "    print(\"\\\"\", ''.join([int_to_char[value] for value in pattern]), \"\\\"\")\n",
    "    \n",
    "    generated_text = []\n",
    "    # generate characters\n",
    "    for i in range(100):\n",
    "        x = np.reshape(pattern, (1, len(pattern)))\n",
    "        prediction = model.predict(x, verbose=0)\n",
    "        index = np.argmax(prediction)\n",
    "        result = int_to_char[index]\n",
    "        seq_in = [int_to_char[value] for value in pattern]\n",
    "        pattern.append(index)\n",
    "        generated_text.append(index)\n",
    "        pattern = pattern[1:]\n",
    "    #print(\"\\nDone.\")\n",
    "    #print(pattern)\n",
    "    #print(\"\\\"\", ''.join([int_to_char[value] for value in seed]), \"\\\"\")\n",
    "    print(\"\\\"\", ''.join([int_to_char[value] for value in generated_text]), \"\\\"\")"
   ]
  },
  {
   "cell_type": "code",
   "execution_count": null,
   "metadata": {
    "collapsed": false
   },
   "outputs": [
    {
     "name": "stdout",
     "output_type": "stream",
     "text": [
      "Epoch 1/20\n",
      " 233536/6321487 [>.............................] - ETA: 4923s - loss: 1.7244"
     ]
    }
   ],
   "source": [
    "#Train!\n",
    "\n",
    "# define the checkpoint\n",
    "#filepath=\"checkpoints/weights-improvement-{epoch:02d}-{loss:.4f}-gentext-CharRNN-simple.hdf5\"\n",
    "epoch_print = LambdaCallback(\n",
    "    on_epoch_end=lambda batch,logs: generate_stuff())\n",
    "checkpoint = ModelCheckpoint('Harrypotter_Gen.h5', monitor='loss', verbose=1, save_best_only=True, mode='min')\n",
    "callbacks_list = [checkpoint, epoch_print]\n",
    "\n",
    "model.fit(X, y, epochs=20, batch_size=64, callbacks=callbacks_list)"
   ]
  },
  {
   "cell_type": "code",
   "execution_count": 37,
   "metadata": {
    "collapsed": true
   },
   "outputs": [],
   "source": [
    "model.save('Harrypotter_Gen.h5')"
   ]
  },
  {
   "cell_type": "code",
   "execution_count": 55,
   "metadata": {
    "collapsed": false
   },
   "outputs": [
    {
     "name": "stdout",
     "output_type": "stream",
     "text": [
      "[40, 52, 50, 42, 3, 58, 53, 3, 46, 51, 3, 52, 58, 55, 3, 52, 60, 49, 15, 5, 1, 0, 39, 58, 57, 3, 45, 38, 44, 55, 46, 41, 3, 50, 42, 55, 42, 49, 62, 3, 62, 38, 60, 51, 42, 41, 3, 60, 46, 41, 42, 49, 62, 3, 38, 51, 41, 3, 40, 38, 56, 57, 3, 38]\n",
      "Seed pattern:\n",
      "\" come up in our owl.\"\n",
      "but hagrid merely yawned widely and cast a \"\n",
      "\n",
      "Done.\n",
      "[3, 56, 57, 38, 55, 57, 42, 41, 3, 57, 52, 3, 57, 45, 42, 3, 56, 57, 38, 55, 57, 42, 41, 3, 57, 52, 3, 57, 45, 42, 3, 56, 57, 38, 55, 57, 42, 41, 3, 57, 52, 3, 57, 45, 42, 3, 56, 57, 38, 55, 57, 42, 41, 3, 57, 52, 3, 57, 45, 42, 3, 56, 57, 38]\n",
      "\" come up in our owl.\"\n",
      "but hagrid merely yawned widely and cast an \"\n",
      "\" nd the started to the started to the started to the started to the started to the started to the sta \"\n"
     ]
    }
   ],
   "source": [
    "generate_stuff()"
   ]
  },
  {
   "cell_type": "code",
   "execution_count": 50,
   "metadata": {
    "collapsed": false
   },
   "outputs": [
    {
     "name": "stdout",
     "output_type": "stream",
     "text": [
      "\n",
      "Done.\n",
      "[41, 3, 57, 52, 3, 57, 45, 42, 3, 56, 57, 38, 55, 57, 42, 41, 3, 57, 52, 3, 57, 45, 42, 3, 56, 57, 38, 55, 57, 42, 41, 3, 57, 52, 3, 57, 45, 42, 3, 56, 57, 38, 55, 57, 42, 41, 3, 57, 52, 3, 57, 45, 42, 3, 56, 57, 38, 55, 57, 42, 41, 3, 57, 52]\n",
      "\"  until proven guilty, severus,\" he said firmly.\r\n",
      "snape looked fur \"\n",
      "\" started to the started to the started to the started to the started to the started to the started to \"\n"
     ]
    }
   ],
   "source": []
  },
  {
   "cell_type": "code",
   "execution_count": null,
   "metadata": {
    "collapsed": true
   },
   "outputs": [],
   "source": []
  }
 ],
 "metadata": {
  "anaconda-cloud": {},
  "kernelspec": {
   "display_name": "Python [conda env:python35]",
   "language": "python",
   "name": "conda-env-python35-py"
  },
  "language_info": {
   "codemirror_mode": {
    "name": "ipython",
    "version": 3
   },
   "file_extension": ".py",
   "mimetype": "text/x-python",
   "name": "python",
   "nbconvert_exporter": "python",
   "pygments_lexer": "ipython3",
   "version": "3.5.2"
  }
 },
 "nbformat": 4,
 "nbformat_minor": 2
}
