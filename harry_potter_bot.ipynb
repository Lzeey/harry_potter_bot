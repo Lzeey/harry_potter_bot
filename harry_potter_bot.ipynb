{
 "cells": [
  {
   "cell_type": "code",
   "execution_count": 103,
   "metadata": {
    "collapsed": false
   },
   "outputs": [],
   "source": [
    "import numpy as np\n",
    "import sys\n",
    "import os\n",
    "import codecs\n",
    "\n",
    "import keras\n",
    "from keras.models import Sequential, Model, load_model\n",
    "from keras.layers import Dense, LSTM, Dropout, Input, Embedding, Bidirectional\n",
    "from keras.optimizers import RMSprop, Adam\n",
    "\n",
    "from keras.callbacks import ModelCheckpoint, LambdaCallback\n",
    "from keras.utils import np_utils\n",
    "\n",
    "import tensorflow as tf"
   ]
  },
  {
   "cell_type": "code",
   "execution_count": 16,
   "metadata": {
    "collapsed": false
   },
   "outputs": [],
   "source": [
    "# load ascii text and covert to lowercase\n",
    "filenames = [f for f in os.listdir('data') if f.startswith(\"Harry\")]\n",
    "raw_text = \"\\n\".join(codecs.open(os.path.join('data', f), 'rb', 'cp1252', errors='ignore').read() for f in filenames)\n",
    "#raw_text = \"\\n\".join(open('data//' + f).read() for f in filenames)\n",
    "raw_text = raw_text.lower()"
   ]
  },
  {
   "cell_type": "code",
   "execution_count": 18,
   "metadata": {
    "collapsed": false
   },
   "outputs": [
    {
     "name": "stdout",
     "output_type": "stream",
     "text": [
      "6321551\n"
     ]
    },
    {
     "data": {
      "text/plain": [
       "'with... you know... her crowd.\" \\r\\n\\r\\nmrs. dursley sipped her tea through pursed lips. mr. dursley wondered whether he dared tell her he\\'d heard the name \"potter.\" he decided he didn\\'t dare. instead he said, as casually as he could, \"their son -- he\\'d be about dudley\\'s age now, wouldn\\'t he?\" \\r\\n\\r\\n\"i suppose so,\" said mrs. dursley stiffly. \\r\\n\\r\\n\"what\\'s his name again? howard, isn\\'t it?\" \\r\\n\\r\\n\"harry. nasty, common name, if you ask me.\" \\r\\n\\r\\n\"oh, yes,\" said mr. dursley, his heart sinking horribly. \"yes, i quite agree.\" \\r\\n\\r\\nhe didn\\'t say another word on the subject as they went upstairs to bed. \\r\\n\\r\\nwhile mrs. dursley was in the bathroom, mr. dursley crept to the bedroom window and peered down into the front garden. the cat was still there. \\r\\n\\r\\nit was staring down privet drive as though it were waiting for something. \\r\\n\\r\\nwas he imagining things? could all this have anything to do with the potters? if it did... if it got out that they were related to a pair of -- well, he didn\\'t think he could bear it. \\r\\n\\r\\nthe dursleys got into bed. mrs. dursley fell asleep quickly but mr. dursley lay awake, turning it all over in his mind. his last, comforting thought before he fell asleep was that even if the potters were involved, there was no reason for them to come near him and mrs. dursley. the potters knew very well what he and petunia thought about them and their kind.... he couldn\\'t see how he and petunia could get mixed up in anything that might be going on -- he yawned and turned over -- it couldn\\'t affect them.... \\r\\n\\r\\nhow very wrong he was. \\r\\n\\r\\nmr. dursley might have been drifting into an uneasy sleep, but the cat on the wall outside was showing no sign of sleepiness. it was sitting as still as a statue, its eyes fixed unblinkingly on the far corner of privet drive. it didn\\'t so much as quiver when a car door slammed on the next street, nor when two owls swooped overhead. in fact, it was nearly midnight before the cat moved at all. \\r\\n\\r\\na man appeared on the corner the cat had been watching, appeared so suddenly and silently you\\'d have thought he\\'d just popped out of the ground. the cat\\'s tail twitched and its eyes narrowed. \\r\\n\\r\\nnothing like this man had ever been seen on privet drive. he was tall, thin, and very old, judging by the silver of his hair and beard, which were both long enough to tuck into his belt. he was wearing long robes, a purple cloak that swept the ground, and high-heeled, buckled boots. \\r\\n\\r\\nhis blue eyes were light, bright, and sparkling behind half-moon spectacles and his nose was very long and crooked, as though it had been broken at least twice. this man\\'s name was albus dumbledore. \\r\\n\\r\\nalbus dumbledore didn\\'t seem to realize that he had just arrived in a street where everything from his name to his boots was unwelcome. he was busy rummaging in his cloak, looking for something. but he did seem to realize he was being watched, because he looked up suddenly at the cat, which was still staring at him from the other end of the street. for some reason, the sight of the cat seemed to amuse him. he chuckled and muttered, \"i should have known.\" \\r\\n\\r\\nhe found what he was looking for in his inside pocket. it seemed to be a silver cigarette lighter. he flicked it open, held it up in the air, and clicked it. the nearest street lamp went out with a little pop. he clicked it again -- the next lamp flickered into darkness. twelve times he clicked the put-outer, until the only lights left on the whole street were two tiny pinpricks in the distance, which were the eyes of the cat watching him. if anyone looked out of their window now, even beady-eyed mrs. dursley, they wouldn\\'t be able to see anything that was happening down on the pavement. dumbledore slipped the put-outer back inside his cloak and set off down the street toward number four, where he sat down on the wall next to the cat. he didn\\'t look at it, but after a moment he spoke to it. \\r\\n\\r\\n\"fancy seeing you here, professor mcgonagall.\" \\r\\n\\r\\nhe turned to smile at the tabby, but it '"
      ]
     },
     "execution_count": 18,
     "metadata": {},
     "output_type": "execute_result"
    }
   ],
   "source": [
    "print(len(raw_text))\n",
    "raw_text[10000:14000]"
   ]
  },
  {
   "cell_type": "code",
   "execution_count": 19,
   "metadata": {
    "collapsed": false
   },
   "outputs": [
    {
     "name": "stdout",
     "output_type": "stream",
     "text": [
      "Total Characters:  6321551\n",
      "Total Unique chars:  78\n"
     ]
    }
   ],
   "source": [
    "# create mapping of unique chars to integers\n",
    "chars = sorted(list(set(raw_text)))\n",
    "char_to_int = dict((c, i) for i, c in enumerate(chars))\n",
    "int_to_char = dict((i, c) for i, c in enumerate(chars))\n",
    "\n",
    "# summarize the loaded data\n",
    "n_chars = len(raw_text)\n",
    "n_vocab = len(chars)\n",
    "print(\"Total Characters: \", n_chars)\n",
    "print(\"Total Unique chars: \", n_vocab)"
   ]
  },
  {
   "cell_type": "code",
   "execution_count": 20,
   "metadata": {
    "collapsed": false
   },
   "outputs": [
    {
     "name": "stdout",
     "output_type": "stream",
     "text": [
      "['\\n', '\\r', '\\x1f', ' ', '!', '\"', '$', '%', '&', \"'\", '(', ')', '*', ',', '-', '.', '/', '0', '1', '2', '3', '4', '5', '6', '7', '8', '9', ':', ';', '=', '>', '?', '[', '\\\\', ']', '^', '_', '`', 'a', 'b', 'c', 'd', 'e', 'f', 'g', 'h', 'i', 'j', 'k', 'l', 'm', 'n', 'o', 'p', 'q', 'r', 's', 't', 'u', 'v', 'w', 'x', 'y', 'z', '{', '}', '~', '¦', '«', '\\xad', '»', 'é', 'ü', '–', '‘', '’', '“', '•']\n"
     ]
    }
   ],
   "source": [
    "print(chars)"
   ]
  },
  {
   "cell_type": "code",
   "execution_count": 131,
   "metadata": {
    "collapsed": false
   },
   "outputs": [
    {
     "name": "stdout",
     "output_type": "stream",
     "text": [
      "Total sequences:  6321487\n"
     ]
    }
   ],
   "source": [
    "# create input and output pairs\n",
    "seq_length = 64\n",
    "dataX = []\n",
    "dataY = []\n",
    "for i in range(0, n_chars - seq_length, 1):\n",
    "    seq_in = raw_text[i:i + seq_length]\n",
    "    seq_out = raw_text[i + seq_length]\n",
    "    dataX.append([char_to_int[char] for char in seq_in])\n",
    "    dataY.append(char_to_int[seq_out])\n",
    "n_patterns = len(dataX)\n",
    "print(\"Total sequences: \", n_patterns)"
   ]
  },
  {
   "cell_type": "code",
   "execution_count": 132,
   "metadata": {
    "collapsed": false
   },
   "outputs": [
    {
     "name": "stdout",
     "output_type": "stream",
     "text": [
      "(6321487, 64)\n"
     ]
    },
    {
     "data": {
      "text/plain": [
       "array([[45, 38, 55, 55, 62,  3, 53, 52, 57, 57, 42, 55,  3, 38, 51, 41,  3,\n",
       "        57, 45, 42,  3, 56, 52, 55, 40, 42, 55, 42, 55,  9, 56,  3, 56, 57,\n",
       "        52, 51, 42,  3,  1,  0,  1,  0, 40, 45, 38, 53, 57, 42, 55,  3, 52,\n",
       "        51, 42,  3,  1,  0,  1,  0, 57, 45, 42,  3, 39, 52],\n",
       "       [38, 55, 55, 62,  3, 53, 52, 57, 57, 42, 55,  3, 38, 51, 41,  3, 57,\n",
       "        45, 42,  3, 56, 52, 55, 40, 42, 55, 42, 55,  9, 56,  3, 56, 57, 52,\n",
       "        51, 42,  3,  1,  0,  1,  0, 40, 45, 38, 53, 57, 42, 55,  3, 52, 51,\n",
       "        42,  3,  1,  0,  1,  0, 57, 45, 42,  3, 39, 52, 62]])"
      ]
     },
     "execution_count": 132,
     "metadata": {},
     "output_type": "execute_result"
    }
   ],
   "source": [
    "# reshape X to be [samples, time steps, features]\n",
    "X = np.reshape(dataX, (n_patterns, seq_length))\n",
    "print(X.shape)\n",
    "X[:2, :]\n",
    "# normalize\n",
    "#X = X / float(n_vocab)"
   ]
  },
  {
   "cell_type": "code",
   "execution_count": 133,
   "metadata": {
    "collapsed": false
   },
   "outputs": [
    {
     "name": "stdout",
     "output_type": "stream",
     "text": [
      "[53, 46, 41, 42, 55, 13, 3, 47, 42, 55, 48, 46, 51, 44, 3, 38, 51, 41, 3, 57, 60, 46, 57, 40, 45, 46, 51, 44, 15, 1, 0, 1, 0, 5, 38, 51, 57, 46, 41, 52, 57, 42, 56, 4, 5, 3, 56, 38, 46, 41, 3, 56, 51, 38, 53, 42, 13, 3, 49, 52, 52, 48, 46, 51]\n",
      "Seed pattern:\n",
      "\" pider, jerking and twitching.\r\n",
      "\r\n",
      "\"antidotes!\" said snape, lookin \"\n",
      "Next letter: g\n"
     ]
    }
   ],
   "source": [
    "start = np.random.randint(0, len(dataX)-1)\n",
    "pattern = dataX[start]\n",
    "seed = dataX[start]\n",
    "print(pattern)\n",
    "print(\"Seed pattern:\")\n",
    "print(\"\\\"\", ''.join([int_to_char[value] for value in pattern]), \"\\\"\")\n",
    "print(\"Next letter: %s\"%(int_to_char[dataY[start]]))"
   ]
  },
  {
   "cell_type": "code",
   "execution_count": 134,
   "metadata": {
    "collapsed": false
   },
   "outputs": [
    {
     "name": "stdout",
     "output_type": "stream",
     "text": [
      "(6321487,)\n"
     ]
    },
    {
     "data": {
      "text/plain": [
       "array([62,  3, 60, 45, 52])"
      ]
     },
     "execution_count": 134,
     "metadata": {},
     "output_type": "execute_result"
    }
   ],
   "source": [
    "# one hot encode the output variable\n",
    "#y = np_utils.to_categorical(dataY)\n",
    "y = np.array(dataY)\n",
    "print(y.shape)\n",
    "y[:5]\n",
    "#WE USE SPARSE CATEGORICAL"
   ]
  },
  {
   "cell_type": "code",
   "execution_count": 149,
   "metadata": {
    "collapsed": false
   },
   "outputs": [
    {
     "name": "stdout",
     "output_type": "stream",
     "text": [
      "_________________________________________________________________\n",
      "Layer (type)                 Output Shape              Param #   \n",
      "=================================================================\n",
      "input_13 (InputLayer)        (None, 64)                0         \n",
      "_________________________________________________________________\n",
      "embedding_12 (Embedding)     (None, 64, 512)           39936     \n",
      "_________________________________________________________________\n",
      "lstm_21 (LSTM)               (None, 64, 512)           2099200   \n",
      "_________________________________________________________________\n",
      "dropout_18 (Dropout)         (None, 64, 512)           0         \n",
      "_________________________________________________________________\n",
      "lstm_22 (LSTM)               (None, 64, 512)           2099200   \n",
      "_________________________________________________________________\n",
      "dropout_19 (Dropout)         (None, 64, 512)           0         \n",
      "_________________________________________________________________\n",
      "lstm_23 (LSTM)               (None, 512)               2099200   \n",
      "_________________________________________________________________\n",
      "dropout_20 (Dropout)         (None, 512)               0         \n",
      "_________________________________________________________________\n",
      "dense_12 (Dense)             (None, 78)                40014     \n",
      "=================================================================\n",
      "Total params: 6,377,550\n",
      "Trainable params: 6,377,550\n",
      "Non-trainable params: 0\n",
      "_________________________________________________________________\n"
     ]
    }
   ],
   "source": [
    "# define the input shape\n",
    "hidden_size=512\n",
    "\n",
    "inputs = Input(shape=(X.shape[1],))\n",
    "embeded = Embedding(len(chars), hidden_size, input_length=seq_length)(inputs)\n",
    "# x = LSTM(hidden_size, return_sequences = True)(embeded) \n",
    "# x = Dropout(0.2)(x)\n",
    "# x = Bidirectional(LSTM(hidden_size, recurrent_dropout=0.2, return_sequences=True))(embeded)\n",
    "# x = Bidirectional(LSTM(hidden_size, recurrent_dropout=0.3))(x)\n",
    "x = LSTM(hidden_size, return_sequences = True, recurrent_dropout=0.2)(embeded)\n",
    "x = Dropout(0.3)(x)\n",
    "x = LSTM(hidden_size, return_sequences = True, recurrent_dropout=0.3)(x)\n",
    "x = Dropout(0.4)(x)\n",
    "x = LSTM(hidden_size, recurrent_dropout=0.4)(x)\n",
    "x = Dropout(0.5)(x)\n",
    "output = Dense(len(chars), activation ='softmax')(x)\n",
    "\n",
    "model = Model(inputs, output)\n",
    "model.compile(loss='sparse_categorical_crossentropy',\n",
    "             optimizer='rmsprop')\n",
    "\n",
    "model.summary()"
   ]
  },
  {
   "cell_type": "code",
   "execution_count": 167,
   "metadata": {
    "collapsed": false
   },
   "outputs": [
    {
     "name": "stdout",
     "output_type": "stream",
     "text": [
      "Seed pattern:\n",
      "\" lat side of silver dagger,\n",
      " \"\n",
      "Generated:\n",
      "\" \n",
      "\"yes,\" said harry. \"i can't think the part of the horse and good to see you at the staircase of a silver door of harry and the table of the stairs was something on his mouth from the stairs of the books and the prophet of his face was he was a ground of the table of the rather school parchment in the high bottom of the beater and now and the teachers were staring at him as he had the stand and come up his tone and say in the stairs to the corridor and holding the door and she had been going to be a forest than he had seen the ground, he had not been here and the chair had reading a few back of the start of his wand. harry was something with a high black moment and still stopped to him and harry stared in the man and the distonite disappeared and patched by the completely in his story and concentrated to harry from the wizard to the stairs and found the stone bagman of the dark side of the death eaters and whispered that the death eaters were many and down the chair of the station of the moment the locket and ron and hermione stood at him, but they had the room, they were staring at the cat of the fire of the first too startled for the staircase, cold and said so the table was the nose to his school for the stairs and saw him and his top of the bit of the side of the stone of the course she was going to see the beaters of a landing for the stone time to the corner, and the teachers stared to the stand of fingers of the scream of standing as though he was a start of the dark stairs by the way in a blood so around the stairs and they were looking at his hands to the consider of the side of the stone for the sound of the trunk at the way at the door and george could see her contain for a flames of his mouth of the stone from the students.\n",
      "\"i was a ministry to here in his voice, everyone was a stand down the strange little stare of an expecting that he was been a bit of his tree was a portrait than his mouth was a start of front of the way and was the leapt of the way  \"\n"
     ]
    }
   ],
   "source": [
    "def sample(preds, temperature=0.4):\n",
    "    # helper function to sample an index from a probability array\n",
    "    # Taken from keras text generation example\n",
    "    preds = np.asarray(preds).astype('float64')\n",
    "    preds = np.log(preds) / temperature\n",
    "    exp_preds = np.exp(preds)\n",
    "    preds = exp_preds / np.sum(exp_preds)\n",
    "    probas = np.random.multinomial(1, np.squeeze(preds), 1)\n",
    "    return np.argmax(probas)\n",
    "\n",
    "\n",
    "def generate_stuff(length=200):\n",
    "    # pick a random seed\n",
    "    start = np.random.randint(0, len(dataX)-1)\n",
    "    pattern = dataX[start]\n",
    "    seed = dataX[start]\n",
    "    #print(pattern)\n",
    "    print(\"Seed pattern:\")\n",
    "    print(\"\\\"\", ''.join([int_to_char[value] for value in pattern]), \"\\\"\")\n",
    "    \n",
    "    generated_text = []\n",
    "    # generate characters\n",
    "    for i in range(length):\n",
    "        x = np.reshape(pattern, (1, len(pattern)))\n",
    "        prediction = model.predict(x, verbose=0)\n",
    "        index = sample(prediction) #Use sampling instead\n",
    "        #index = np.argmax(prediction)\n",
    "        result = int_to_char[index]\n",
    "        seq_in = [int_to_char[value] for value in pattern]\n",
    "        pattern.append(index)\n",
    "        generated_text.append(index)\n",
    "        pattern = pattern[1:]\n",
    "        #print(\"\\\"\", ''.join([int_to_char[value] for value in pattern]), \"\\\"\")\n",
    "    #print(\"\\nDone.\")\n",
    "    #print(pattern)\n",
    "    #print(\"\\\"\", ''.join([int_to_char[value] for value in seed]), \"\\\"\")\n",
    "    print(\"Generated:\")\n",
    "    print(\"\\\"\", ''.join([int_to_char[value] for value in generated_text]), \"\\\"\")\n",
    "    \n",
    "generate_stuff(2000)"
   ]
  },
  {
   "cell_type": "code",
   "execution_count": 158,
   "metadata": {
    "collapsed": true
   },
   "outputs": [],
   "source": [
    "model = load_model(\"Harrypotter_Gen_exp04_02.h5\")"
   ]
  },
  {
   "cell_type": "code",
   "execution_count": 163,
   "metadata": {
    "collapsed": true
   },
   "outputs": [],
   "source": [
    "opt = Adam(lr=0.0001)\n",
    "model.compile(loss='sparse_categorical_crossentropy',\n",
    "             optimizer=opt)"
   ]
  },
  {
   "cell_type": "code",
   "execution_count": 165,
   "metadata": {
    "collapsed": false
   },
   "outputs": [
    {
     "name": "stdout",
     "output_type": "stream",
     "text": [
      "Epoch 1/20\n",
      "6321472/6321487 [============================>.] - ETA: 0s - loss: 1.4926Epoch 00000: loss improved from inf to 1.49260, saving model to Harrypotter_Gen_exp04_02.h5\n",
      "Seed pattern:\n",
      "\" ght filled the prison room and the frail old body was lifted fro \"\n",
      "Generated:\n",
      "\" m the wizards shouting the ground and stepped at the books and summer in the boy, harry and hermione was a door and really while they were a death from the door, he was straightening toward the table  \"\n",
      "6321487/6321487 [==============================] - 16212s - loss: 1.4926 \n",
      "Epoch 2/20\n",
      "6321472/6321487 [============================>.] - ETA: 0s - loss: 1.4109Epoch 00001: loss improved from 1.49260 to 1.41092, saving model to Harrypotter_Gen_exp04_02.h5\n",
      "Seed pattern:\n",
      "\" rrying, bill pulled the door behind him closed, shutting out the \"\n",
      "Generated:\n",
      "\"  street of the stairs and he was a table of his boy and his face was saying his feet to a gringott of his confidence and the sight of the still was sirius to the leading of his chair and started at th \"\n",
      "6321487/6321487 [==============================] - 16074s - loss: 1.4109 \n",
      "Epoch 3/20\n",
      "2041664/6321487 [========>.....................] - ETA: 10719s - loss: 1.3791"
     ]
    },
    {
     "ename": "KeyboardInterrupt",
     "evalue": "",
     "output_type": "error",
     "traceback": [
      "\u001b[0;31m---------------------------------------------------------------------------\u001b[0m",
      "\u001b[0;31mKeyboardInterrupt\u001b[0m                         Traceback (most recent call last)",
      "\u001b[0;32m<ipython-input-165-bd3f31bf91c1>\u001b[0m in \u001b[0;36m<module>\u001b[0;34m()\u001b[0m\n\u001b[1;32m      8\u001b[0m \u001b[0mcallbacks_list\u001b[0m \u001b[0;34m=\u001b[0m \u001b[0;34m[\u001b[0m\u001b[0mcheckpoint\u001b[0m\u001b[0;34m,\u001b[0m \u001b[0mepoch_print\u001b[0m\u001b[0;34m]\u001b[0m\u001b[0;34m\u001b[0m\u001b[0m\n\u001b[1;32m      9\u001b[0m \u001b[0;34m\u001b[0m\u001b[0m\n\u001b[0;32m---> 10\u001b[0;31m \u001b[0mmodel\u001b[0m\u001b[0;34m.\u001b[0m\u001b[0mfit\u001b[0m\u001b[0;34m(\u001b[0m\u001b[0mX\u001b[0m\u001b[0;34m,\u001b[0m \u001b[0my\u001b[0m\u001b[0;34m,\u001b[0m \u001b[0mepochs\u001b[0m\u001b[0;34m=\u001b[0m\u001b[0;36m20\u001b[0m\u001b[0;34m,\u001b[0m \u001b[0mbatch_size\u001b[0m\u001b[0;34m=\u001b[0m\u001b[0;36m64\u001b[0m\u001b[0;34m,\u001b[0m \u001b[0mcallbacks\u001b[0m\u001b[0;34m=\u001b[0m\u001b[0mcallbacks_list\u001b[0m\u001b[0;34m)\u001b[0m\u001b[0;34m\u001b[0m\u001b[0m\n\u001b[0m",
      "\u001b[0;32m~/anaconda2/envs/python35/lib/python3.5/site-packages/keras/engine/training.py\u001b[0m in \u001b[0;36mfit\u001b[0;34m(self, x, y, batch_size, epochs, verbose, callbacks, validation_split, validation_data, shuffle, class_weight, sample_weight, initial_epoch, steps_per_epoch, validation_steps, **kwargs)\u001b[0m\n\u001b[1;32m   1596\u001b[0m                               \u001b[0minitial_epoch\u001b[0m\u001b[0;34m=\u001b[0m\u001b[0minitial_epoch\u001b[0m\u001b[0;34m,\u001b[0m\u001b[0;34m\u001b[0m\u001b[0m\n\u001b[1;32m   1597\u001b[0m                               \u001b[0msteps_per_epoch\u001b[0m\u001b[0;34m=\u001b[0m\u001b[0msteps_per_epoch\u001b[0m\u001b[0;34m,\u001b[0m\u001b[0;34m\u001b[0m\u001b[0m\n\u001b[0;32m-> 1598\u001b[0;31m                               validation_steps=validation_steps)\n\u001b[0m\u001b[1;32m   1599\u001b[0m \u001b[0;34m\u001b[0m\u001b[0m\n\u001b[1;32m   1600\u001b[0m     def evaluate(self, x, y,\n",
      "\u001b[0;32m~/anaconda2/envs/python35/lib/python3.5/site-packages/keras/engine/training.py\u001b[0m in \u001b[0;36m_fit_loop\u001b[0;34m(self, f, ins, out_labels, batch_size, epochs, verbose, callbacks, val_f, val_ins, shuffle, callback_metrics, initial_epoch, steps_per_epoch, validation_steps)\u001b[0m\n\u001b[1;32m   1181\u001b[0m                     \u001b[0mbatch_logs\u001b[0m\u001b[0;34m[\u001b[0m\u001b[0;34m'size'\u001b[0m\u001b[0;34m]\u001b[0m \u001b[0;34m=\u001b[0m \u001b[0mlen\u001b[0m\u001b[0;34m(\u001b[0m\u001b[0mbatch_ids\u001b[0m\u001b[0;34m)\u001b[0m\u001b[0;34m\u001b[0m\u001b[0m\n\u001b[1;32m   1182\u001b[0m                     \u001b[0mcallbacks\u001b[0m\u001b[0;34m.\u001b[0m\u001b[0mon_batch_begin\u001b[0m\u001b[0;34m(\u001b[0m\u001b[0mbatch_index\u001b[0m\u001b[0;34m,\u001b[0m \u001b[0mbatch_logs\u001b[0m\u001b[0;34m)\u001b[0m\u001b[0;34m\u001b[0m\u001b[0m\n\u001b[0;32m-> 1183\u001b[0;31m                     \u001b[0mouts\u001b[0m \u001b[0;34m=\u001b[0m \u001b[0mf\u001b[0m\u001b[0;34m(\u001b[0m\u001b[0mins_batch\u001b[0m\u001b[0;34m)\u001b[0m\u001b[0;34m\u001b[0m\u001b[0m\n\u001b[0m\u001b[1;32m   1184\u001b[0m                     \u001b[0;32mif\u001b[0m \u001b[0;32mnot\u001b[0m \u001b[0misinstance\u001b[0m\u001b[0;34m(\u001b[0m\u001b[0mouts\u001b[0m\u001b[0;34m,\u001b[0m \u001b[0mlist\u001b[0m\u001b[0;34m)\u001b[0m\u001b[0;34m:\u001b[0m\u001b[0;34m\u001b[0m\u001b[0m\n\u001b[1;32m   1185\u001b[0m                         \u001b[0mouts\u001b[0m \u001b[0;34m=\u001b[0m \u001b[0;34m[\u001b[0m\u001b[0mouts\u001b[0m\u001b[0;34m]\u001b[0m\u001b[0;34m\u001b[0m\u001b[0m\n",
      "\u001b[0;32m~/anaconda2/envs/python35/lib/python3.5/site-packages/keras/backend/tensorflow_backend.py\u001b[0m in \u001b[0;36m__call__\u001b[0;34m(self, inputs)\u001b[0m\n\u001b[1;32m   2271\u001b[0m         updated = session.run(self.outputs + [self.updates_op],\n\u001b[1;32m   2272\u001b[0m                               \u001b[0mfeed_dict\u001b[0m\u001b[0;34m=\u001b[0m\u001b[0mfeed_dict\u001b[0m\u001b[0;34m,\u001b[0m\u001b[0;34m\u001b[0m\u001b[0m\n\u001b[0;32m-> 2273\u001b[0;31m                               **self.session_kwargs)\n\u001b[0m\u001b[1;32m   2274\u001b[0m         \u001b[0;32mreturn\u001b[0m \u001b[0mupdated\u001b[0m\u001b[0;34m[\u001b[0m\u001b[0;34m:\u001b[0m\u001b[0mlen\u001b[0m\u001b[0;34m(\u001b[0m\u001b[0mself\u001b[0m\u001b[0;34m.\u001b[0m\u001b[0moutputs\u001b[0m\u001b[0;34m)\u001b[0m\u001b[0;34m]\u001b[0m\u001b[0;34m\u001b[0m\u001b[0m\n\u001b[1;32m   2275\u001b[0m \u001b[0;34m\u001b[0m\u001b[0m\n",
      "\u001b[0;32m~/anaconda2/envs/python35/lib/python3.5/site-packages/tensorflow/python/client/session.py\u001b[0m in \u001b[0;36mrun\u001b[0;34m(self, fetches, feed_dict, options, run_metadata)\u001b[0m\n\u001b[1;32m    893\u001b[0m     \u001b[0;32mtry\u001b[0m\u001b[0;34m:\u001b[0m\u001b[0;34m\u001b[0m\u001b[0m\n\u001b[1;32m    894\u001b[0m       result = self._run(None, fetches, feed_dict, options_ptr,\n\u001b[0;32m--> 895\u001b[0;31m                          run_metadata_ptr)\n\u001b[0m\u001b[1;32m    896\u001b[0m       \u001b[0;32mif\u001b[0m \u001b[0mrun_metadata\u001b[0m\u001b[0;34m:\u001b[0m\u001b[0;34m\u001b[0m\u001b[0m\n\u001b[1;32m    897\u001b[0m         \u001b[0mproto_data\u001b[0m \u001b[0;34m=\u001b[0m \u001b[0mtf_session\u001b[0m\u001b[0;34m.\u001b[0m\u001b[0mTF_GetBuffer\u001b[0m\u001b[0;34m(\u001b[0m\u001b[0mrun_metadata_ptr\u001b[0m\u001b[0;34m)\u001b[0m\u001b[0;34m\u001b[0m\u001b[0m\n",
      "\u001b[0;32m~/anaconda2/envs/python35/lib/python3.5/site-packages/tensorflow/python/client/session.py\u001b[0m in \u001b[0;36m_run\u001b[0;34m(self, handle, fetches, feed_dict, options, run_metadata)\u001b[0m\n\u001b[1;32m   1122\u001b[0m     \u001b[0;32mif\u001b[0m \u001b[0mfinal_fetches\u001b[0m \u001b[0;32mor\u001b[0m \u001b[0mfinal_targets\u001b[0m \u001b[0;32mor\u001b[0m \u001b[0;34m(\u001b[0m\u001b[0mhandle\u001b[0m \u001b[0;32mand\u001b[0m \u001b[0mfeed_dict_tensor\u001b[0m\u001b[0;34m)\u001b[0m\u001b[0;34m:\u001b[0m\u001b[0;34m\u001b[0m\u001b[0m\n\u001b[1;32m   1123\u001b[0m       results = self._do_run(handle, final_targets, final_fetches,\n\u001b[0;32m-> 1124\u001b[0;31m                              feed_dict_tensor, options, run_metadata)\n\u001b[0m\u001b[1;32m   1125\u001b[0m     \u001b[0;32melse\u001b[0m\u001b[0;34m:\u001b[0m\u001b[0;34m\u001b[0m\u001b[0m\n\u001b[1;32m   1126\u001b[0m       \u001b[0mresults\u001b[0m \u001b[0;34m=\u001b[0m \u001b[0;34m[\u001b[0m\u001b[0;34m]\u001b[0m\u001b[0;34m\u001b[0m\u001b[0m\n",
      "\u001b[0;32m~/anaconda2/envs/python35/lib/python3.5/site-packages/tensorflow/python/client/session.py\u001b[0m in \u001b[0;36m_do_run\u001b[0;34m(self, handle, target_list, fetch_list, feed_dict, options, run_metadata)\u001b[0m\n\u001b[1;32m   1319\u001b[0m     \u001b[0;32mif\u001b[0m \u001b[0mhandle\u001b[0m \u001b[0;32mis\u001b[0m \u001b[0;32mNone\u001b[0m\u001b[0;34m:\u001b[0m\u001b[0;34m\u001b[0m\u001b[0m\n\u001b[1;32m   1320\u001b[0m       return self._do_call(_run_fn, self._session, feeds, fetches, targets,\n\u001b[0;32m-> 1321\u001b[0;31m                            options, run_metadata)\n\u001b[0m\u001b[1;32m   1322\u001b[0m     \u001b[0;32melse\u001b[0m\u001b[0;34m:\u001b[0m\u001b[0;34m\u001b[0m\u001b[0m\n\u001b[1;32m   1323\u001b[0m       \u001b[0;32mreturn\u001b[0m \u001b[0mself\u001b[0m\u001b[0;34m.\u001b[0m\u001b[0m_do_call\u001b[0m\u001b[0;34m(\u001b[0m\u001b[0m_prun_fn\u001b[0m\u001b[0;34m,\u001b[0m \u001b[0mself\u001b[0m\u001b[0;34m.\u001b[0m\u001b[0m_session\u001b[0m\u001b[0;34m,\u001b[0m \u001b[0mhandle\u001b[0m\u001b[0;34m,\u001b[0m \u001b[0mfeeds\u001b[0m\u001b[0;34m,\u001b[0m \u001b[0mfetches\u001b[0m\u001b[0;34m)\u001b[0m\u001b[0;34m\u001b[0m\u001b[0m\n",
      "\u001b[0;32m~/anaconda2/envs/python35/lib/python3.5/site-packages/tensorflow/python/client/session.py\u001b[0m in \u001b[0;36m_do_call\u001b[0;34m(self, fn, *args)\u001b[0m\n\u001b[1;32m   1325\u001b[0m   \u001b[0;32mdef\u001b[0m \u001b[0m_do_call\u001b[0m\u001b[0;34m(\u001b[0m\u001b[0mself\u001b[0m\u001b[0;34m,\u001b[0m \u001b[0mfn\u001b[0m\u001b[0;34m,\u001b[0m \u001b[0;34m*\u001b[0m\u001b[0margs\u001b[0m\u001b[0;34m)\u001b[0m\u001b[0;34m:\u001b[0m\u001b[0;34m\u001b[0m\u001b[0m\n\u001b[1;32m   1326\u001b[0m     \u001b[0;32mtry\u001b[0m\u001b[0;34m:\u001b[0m\u001b[0;34m\u001b[0m\u001b[0m\n\u001b[0;32m-> 1327\u001b[0;31m       \u001b[0;32mreturn\u001b[0m \u001b[0mfn\u001b[0m\u001b[0;34m(\u001b[0m\u001b[0;34m*\u001b[0m\u001b[0margs\u001b[0m\u001b[0;34m)\u001b[0m\u001b[0;34m\u001b[0m\u001b[0m\n\u001b[0m\u001b[1;32m   1328\u001b[0m     \u001b[0;32mexcept\u001b[0m \u001b[0merrors\u001b[0m\u001b[0;34m.\u001b[0m\u001b[0mOpError\u001b[0m \u001b[0;32mas\u001b[0m \u001b[0me\u001b[0m\u001b[0;34m:\u001b[0m\u001b[0;34m\u001b[0m\u001b[0m\n\u001b[1;32m   1329\u001b[0m       \u001b[0mmessage\u001b[0m \u001b[0;34m=\u001b[0m \u001b[0mcompat\u001b[0m\u001b[0;34m.\u001b[0m\u001b[0mas_text\u001b[0m\u001b[0;34m(\u001b[0m\u001b[0me\u001b[0m\u001b[0;34m.\u001b[0m\u001b[0mmessage\u001b[0m\u001b[0;34m)\u001b[0m\u001b[0;34m\u001b[0m\u001b[0m\n",
      "\u001b[0;32m~/anaconda2/envs/python35/lib/python3.5/site-packages/tensorflow/python/client/session.py\u001b[0m in \u001b[0;36m_run_fn\u001b[0;34m(session, feed_dict, fetch_list, target_list, options, run_metadata)\u001b[0m\n\u001b[1;32m   1304\u001b[0m           return tf_session.TF_Run(session, options,\n\u001b[1;32m   1305\u001b[0m                                    \u001b[0mfeed_dict\u001b[0m\u001b[0;34m,\u001b[0m \u001b[0mfetch_list\u001b[0m\u001b[0;34m,\u001b[0m \u001b[0mtarget_list\u001b[0m\u001b[0;34m,\u001b[0m\u001b[0;34m\u001b[0m\u001b[0m\n\u001b[0;32m-> 1306\u001b[0;31m                                    status, run_metadata)\n\u001b[0m\u001b[1;32m   1307\u001b[0m \u001b[0;34m\u001b[0m\u001b[0m\n\u001b[1;32m   1308\u001b[0m     \u001b[0;32mdef\u001b[0m \u001b[0m_prun_fn\u001b[0m\u001b[0;34m(\u001b[0m\u001b[0msession\u001b[0m\u001b[0;34m,\u001b[0m \u001b[0mhandle\u001b[0m\u001b[0;34m,\u001b[0m \u001b[0mfeed_dict\u001b[0m\u001b[0;34m,\u001b[0m \u001b[0mfetch_list\u001b[0m\u001b[0;34m)\u001b[0m\u001b[0;34m:\u001b[0m\u001b[0;34m\u001b[0m\u001b[0m\n",
      "\u001b[0;31mKeyboardInterrupt\u001b[0m: "
     ]
    }
   ],
   "source": [
    "#Train!\n",
    "\n",
    "# define the checkpoint\n",
    "#filepath=\"checkpoints/weights-improvement-{epoch:02d}-{loss:.4f}-gentext-CharRNN-simple.hdf5\"\n",
    "epoch_print = LambdaCallback(\n",
    "    on_epoch_end=lambda batch,logs: generate_stuff())\n",
    "checkpoint = ModelCheckpoint('Harrypotter_Gen_exp04_02.h5', monitor='loss', verbose=1, save_best_only=True, mode='min')\n",
    "callbacks_list = [checkpoint, epoch_print]\n",
    "\n",
    "model.fit(X, y, epochs=20, batch_size=64, callbacks=callbacks_list)"
   ]
  },
  {
   "cell_type": "code",
   "execution_count": 141,
   "metadata": {
    "collapsed": true
   },
   "outputs": [],
   "source": [
    "model.save('Harrypotter_Gen_exp03.h5')\n"
   ]
  },
  {
   "cell_type": "code",
   "execution_count": 127,
   "metadata": {
    "collapsed": false
   },
   "outputs": [
    {
     "name": "stdout",
     "output_type": "stream",
     "text": [
      "[48, 46, 51, 56, 13, 3, 45, 42, 3, 49, 52, 52, 48, 42, 41, 3, 56, 52, 3, 45, 38, 51, 41, 56, 52, 50, 42, 3, 38, 51, 41, 3]\n",
      "Seed pattern:\n",
      "\" kins, he looked so handsome and  \"\n"
     ]
    },
    {
     "ename": "ValueError",
     "evalue": "Error when checking : expected input_4 to have shape (None, 64) but got array with shape (1, 32)",
     "output_type": "error",
     "traceback": [
      "\u001b[0;31m---------------------------------------------------------------------------\u001b[0m",
      "\u001b[0;31mValueError\u001b[0m                                Traceback (most recent call last)",
      "\u001b[0;32m<ipython-input-127-f0b8ad310352>\u001b[0m in \u001b[0;36m<module>\u001b[0;34m()\u001b[0m\n\u001b[1;32m      1\u001b[0m \u001b[0mmodel\u001b[0m \u001b[0;34m=\u001b[0m \u001b[0mload_model\u001b[0m\u001b[0;34m(\u001b[0m\u001b[0;34m\"Harrypotter_Gen.h5\"\u001b[0m\u001b[0;34m)\u001b[0m\u001b[0;34m\u001b[0m\u001b[0m\n\u001b[0;32m----> 2\u001b[0;31m \u001b[0mgenerate_stuff\u001b[0m\u001b[0;34m(\u001b[0m\u001b[0;34m)\u001b[0m\u001b[0;34m\u001b[0m\u001b[0m\n\u001b[0m",
      "\u001b[0;32m<ipython-input-125-377669e981c5>\u001b[0m in \u001b[0;36mgenerate_stuff\u001b[0;34m(length)\u001b[0m\n\u001b[1;32m     23\u001b[0m     \u001b[0;32mfor\u001b[0m \u001b[0mi\u001b[0m \u001b[0;32min\u001b[0m \u001b[0mrange\u001b[0m\u001b[0;34m(\u001b[0m\u001b[0;36m100\u001b[0m\u001b[0;34m)\u001b[0m\u001b[0;34m:\u001b[0m\u001b[0;34m\u001b[0m\u001b[0m\n\u001b[1;32m     24\u001b[0m         \u001b[0mx\u001b[0m \u001b[0;34m=\u001b[0m \u001b[0mnp\u001b[0m\u001b[0;34m.\u001b[0m\u001b[0mreshape\u001b[0m\u001b[0;34m(\u001b[0m\u001b[0mpattern\u001b[0m\u001b[0;34m,\u001b[0m \u001b[0;34m(\u001b[0m\u001b[0;36m1\u001b[0m\u001b[0;34m,\u001b[0m \u001b[0mlen\u001b[0m\u001b[0;34m(\u001b[0m\u001b[0mpattern\u001b[0m\u001b[0;34m)\u001b[0m\u001b[0;34m)\u001b[0m\u001b[0;34m)\u001b[0m\u001b[0;34m\u001b[0m\u001b[0m\n\u001b[0;32m---> 25\u001b[0;31m         \u001b[0mprediction\u001b[0m \u001b[0;34m=\u001b[0m \u001b[0mmodel\u001b[0m\u001b[0;34m.\u001b[0m\u001b[0mpredict\u001b[0m\u001b[0;34m(\u001b[0m\u001b[0mx\u001b[0m\u001b[0;34m,\u001b[0m \u001b[0mverbose\u001b[0m\u001b[0;34m=\u001b[0m\u001b[0;36m0\u001b[0m\u001b[0;34m)\u001b[0m\u001b[0;34m\u001b[0m\u001b[0m\n\u001b[0m\u001b[1;32m     26\u001b[0m         \u001b[0mindex\u001b[0m \u001b[0;34m=\u001b[0m \u001b[0msample\u001b[0m\u001b[0;34m(\u001b[0m\u001b[0mprediction\u001b[0m\u001b[0;34m)\u001b[0m \u001b[0;31m#Use sampling instead\u001b[0m\u001b[0;34m\u001b[0m\u001b[0m\n\u001b[1;32m     27\u001b[0m         \u001b[0;31m#index = np.argmax(prediction)\u001b[0m\u001b[0;34m\u001b[0m\u001b[0;34m\u001b[0m\u001b[0m\n",
      "\u001b[0;32m~/anaconda2/envs/python35/lib/python3.5/site-packages/keras/engine/training.py\u001b[0m in \u001b[0;36mpredict\u001b[0;34m(self, x, batch_size, verbose, steps)\u001b[0m\n\u001b[1;32m   1693\u001b[0m         x = _standardize_input_data(x, self._feed_input_names,\n\u001b[1;32m   1694\u001b[0m                                     \u001b[0mself\u001b[0m\u001b[0;34m.\u001b[0m\u001b[0m_feed_input_shapes\u001b[0m\u001b[0;34m,\u001b[0m\u001b[0;34m\u001b[0m\u001b[0m\n\u001b[0;32m-> 1695\u001b[0;31m                                     check_batch_axis=False)\n\u001b[0m\u001b[1;32m   1696\u001b[0m         \u001b[0;32mif\u001b[0m \u001b[0mself\u001b[0m\u001b[0;34m.\u001b[0m\u001b[0mstateful\u001b[0m\u001b[0;34m:\u001b[0m\u001b[0;34m\u001b[0m\u001b[0m\n\u001b[1;32m   1697\u001b[0m             \u001b[0;32mif\u001b[0m \u001b[0mx\u001b[0m\u001b[0;34m[\u001b[0m\u001b[0;36m0\u001b[0m\u001b[0;34m]\u001b[0m\u001b[0;34m.\u001b[0m\u001b[0mshape\u001b[0m\u001b[0;34m[\u001b[0m\u001b[0;36m0\u001b[0m\u001b[0;34m]\u001b[0m \u001b[0;34m>\u001b[0m \u001b[0mbatch_size\u001b[0m \u001b[0;32mand\u001b[0m \u001b[0mx\u001b[0m\u001b[0;34m[\u001b[0m\u001b[0;36m0\u001b[0m\u001b[0;34m]\u001b[0m\u001b[0;34m.\u001b[0m\u001b[0mshape\u001b[0m\u001b[0;34m[\u001b[0m\u001b[0;36m0\u001b[0m\u001b[0;34m]\u001b[0m \u001b[0;34m%\u001b[0m \u001b[0mbatch_size\u001b[0m \u001b[0;34m!=\u001b[0m \u001b[0;36m0\u001b[0m\u001b[0;34m:\u001b[0m\u001b[0;34m\u001b[0m\u001b[0m\n",
      "\u001b[0;32m~/anaconda2/envs/python35/lib/python3.5/site-packages/keras/engine/training.py\u001b[0m in \u001b[0;36m_standardize_input_data\u001b[0;34m(data, names, shapes, check_batch_axis, exception_prefix)\u001b[0m\n\u001b[1;32m    142\u001b[0m                             \u001b[0;34m' to have shape '\u001b[0m \u001b[0;34m+\u001b[0m \u001b[0mstr\u001b[0m\u001b[0;34m(\u001b[0m\u001b[0mshapes\u001b[0m\u001b[0;34m[\u001b[0m\u001b[0mi\u001b[0m\u001b[0;34m]\u001b[0m\u001b[0;34m)\u001b[0m \u001b[0;34m+\u001b[0m\u001b[0;34m\u001b[0m\u001b[0m\n\u001b[1;32m    143\u001b[0m                             \u001b[0;34m' but got array with shape '\u001b[0m \u001b[0;34m+\u001b[0m\u001b[0;34m\u001b[0m\u001b[0m\n\u001b[0;32m--> 144\u001b[0;31m                             str(array.shape))\n\u001b[0m\u001b[1;32m    145\u001b[0m     \u001b[0;32mreturn\u001b[0m \u001b[0marrays\u001b[0m\u001b[0;34m\u001b[0m\u001b[0m\n\u001b[1;32m    146\u001b[0m \u001b[0;34m\u001b[0m\u001b[0m\n",
      "\u001b[0;31mValueError\u001b[0m: Error when checking : expected input_4 to have shape (None, 64) but got array with shape (1, 32)"
     ]
    }
   ],
   "source": [
    "# model = load_model(\"Harrypotter_Gen.h5\")\n",
    "# generate_stuff()"
   ]
  },
  {
   "cell_type": "code",
   "execution_count": 50,
   "metadata": {
    "collapsed": false
   },
   "outputs": [
    {
     "name": "stdout",
     "output_type": "stream",
     "text": [
      "\n",
      "Done.\n",
      "[41, 3, 57, 52, 3, 57, 45, 42, 3, 56, 57, 38, 55, 57, 42, 41, 3, 57, 52, 3, 57, 45, 42, 3, 56, 57, 38, 55, 57, 42, 41, 3, 57, 52, 3, 57, 45, 42, 3, 56, 57, 38, 55, 57, 42, 41, 3, 57, 52, 3, 57, 45, 42, 3, 56, 57, 38, 55, 57, 42, 41, 3, 57, 52]\n",
      "\"  until proven guilty, severus,\" he said firmly.\r\n",
      "snape looked fur \"\n",
      "\" started to the started to the started to the started to the started to the started to the started to \"\n"
     ]
    }
   ],
   "source": []
  },
  {
   "cell_type": "code",
   "execution_count": null,
   "metadata": {
    "collapsed": true
   },
   "outputs": [],
   "source": []
  }
 ],
 "metadata": {
  "anaconda-cloud": {},
  "kernelspec": {
   "display_name": "Python [conda env:python35]",
   "language": "python",
   "name": "conda-env-python35-py"
  },
  "language_info": {
   "codemirror_mode": {
    "name": "ipython",
    "version": 3
   },
   "file_extension": ".py",
   "mimetype": "text/x-python",
   "name": "python",
   "nbconvert_exporter": "python",
   "pygments_lexer": "ipython3",
   "version": "3.5.2"
  }
 },
 "nbformat": 4,
 "nbformat_minor": 2
}
